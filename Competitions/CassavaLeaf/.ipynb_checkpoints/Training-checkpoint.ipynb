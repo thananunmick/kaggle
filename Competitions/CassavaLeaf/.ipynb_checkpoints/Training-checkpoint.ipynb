{
 "cells": [
  {
   "cell_type": "code",
   "execution_count": 3,
   "id": "muslim-double",
   "metadata": {},
   "outputs": [],
   "source": [
    "import os\n",
    "import matplotlib.pyplot as plt\n",
    "import pandas as pd\n",
    "import numpy as np"
   ]
  },
  {
   "cell_type": "code",
   "execution_count": 4,
   "id": "opponent-prayer",
   "metadata": {},
   "outputs": [],
   "source": [
    "def read_train_set():\n",
    "    X_train_path = os.path.join(\"dataset\", \"X_train_data.csv\")\n",
    "    y_train_path = os.path.join(\"dataset\", \"y_train_data.csv\")\n",
    "    X_train = pd.read_csv(X_train_path)\n",
    "    y_train = pd.read_csv(y_train_path)\n",
    "    return X_train, y_train\n",
    "\n",
    "X_train, y_train = read_train_set()"
   ]
  },
  {
   "cell_type": "code",
   "execution_count": 6,
   "id": "armed-cutting",
   "metadata": {},
   "outputs": [
    {
     "name": "stdout",
     "output_type": "stream",
     "text": [
      "      0    1    2    3    4    5    6    7    8    9  ...  479990  479991  \\\n",
      "0    75   74   73   72   72   71   70   69   60   74  ...      68      68   \n",
      "1    39   60   68   79   93   78   70   95   60   77  ...      50      51   \n",
      "2   105  104  101   96   93   93   96   99  100   98  ...      60      63   \n",
      "3   108  110  112  111  107  103  100   99   99  100  ...     106     127   \n",
      "4   181  115  105  163  104  146  140  142  159  161  ...     142     130   \n",
      "..  ...  ...  ...  ...  ...  ...  ...  ...  ...  ...  ...     ...     ...   \n",
      "95  101  100  100  102  105  107  107  106  109  104  ...       3       4   \n",
      "96   61   64   66   60   52   46   47   51   59   63  ...      39      43   \n",
      "97  244  246  243  233  227  228  231  230  228  228  ...      59      51   \n",
      "98   35   35   34   32   31   30   29   29   29   27  ...      97      97   \n",
      "99   77   59   94   95  116  116   52   71   87   75  ...      94      90   \n",
      "\n",
      "    479992  479993  479994  479995  479996  479997  479998  479999  \n",
      "0       59      52      56      68      80      88      79      59  \n",
      "1       50      49      48      46      45      44      44      45  \n",
      "2       69      71      74      76      76      75      73      71  \n",
      "3      154     184     167     119     100      94      81      74  \n",
      "4      124     117      90      70      71      69      63      66  \n",
      "..     ...     ...     ...     ...     ...     ...     ...     ...  \n",
      "95       4       1       1       3       3       1       1       4  \n",
      "96      52      48      47      50      50      47      48      53  \n",
      "97      59      57      54      53      55      54      51      49  \n",
      "98     104     102     102     104     107     107     105     102  \n",
      "99      92      59      23      11       8       0       0      16  \n",
      "\n",
      "[100 rows x 480000 columns]\n"
     ]
    }
   ],
   "source": [
    "print(X_train.iloc[:])"
   ]
  },
  {
   "cell_type": "code",
   "execution_count": 7,
   "id": "deadly-concentration",
   "metadata": {},
   "outputs": [],
   "source": [
    "from sklearn.model_selection import train_test_split\n",
    "\n",
    "X_train, X_test, y_train, y_test = train_test_split(X_train, y_train, test_size=0.1, random_state=42)"
   ]
  },
  {
   "cell_type": "code",
   "execution_count": 9,
   "id": "blank-pricing",
   "metadata": {},
   "outputs": [
    {
     "data": {
      "text/plain": [
       "((90, 480000), (10, 480000))"
      ]
     },
     "execution_count": 9,
     "metadata": {},
     "output_type": "execute_result"
    }
   ],
   "source": [
    "X_train.shape, X_test.shape"
   ]
  },
  {
   "cell_type": "code",
   "execution_count": null,
   "id": "existing-navigator",
   "metadata": {},
   "outputs": [
    {
     "name": "stderr",
     "output_type": "stream",
     "text": [
      "/Users/Kasemsin/Desktop/ml/my_env/lib/python3.9/site-packages/sklearn/utils/validation.py:63: DataConversionWarning: A column-vector y was passed when a 1d array was expected. Please change the shape of y to (n_samples, ), for example using ravel().\n",
      "  return f(*args, **kwargs)\n"
     ]
    }
   ],
   "source": [
    "from sklearn.linear_model import LogisticRegression\n",
    "\n",
    "log_reg = LogisticRegression()\n",
    "log_reg.fit(X_train, y_train.ravel())"
   ]
  },
  {
   "cell_type": "code",
   "execution_count": null,
   "id": "featured-repeat",
   "metadata": {},
   "outputs": [],
   "source": []
  }
 ],
 "metadata": {
  "kernelspec": {
   "display_name": "Python 3",
   "language": "python",
   "name": "python3"
  }
 },
 "nbformat": 4,
 "nbformat_minor": 5
}
