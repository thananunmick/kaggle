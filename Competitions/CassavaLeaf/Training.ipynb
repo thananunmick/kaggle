{
 "cells": [
  {
   "cell_type": "code",
   "execution_count": 32,
   "id": "muslim-double",
   "metadata": {},
   "outputs": [],
   "source": [
    "import os\n",
    "import matplotlib.pyplot as plt\n",
    "import pandas as pd\n",
    "import numpy as np"
   ]
  },
  {
   "cell_type": "code",
   "execution_count": 33,
   "id": "opponent-prayer",
   "metadata": {},
   "outputs": [],
   "source": [
    "def read_train_set():\n",
    "    X_train_path = os.path.join(\"dataset\", \"X_train_data.csv\")\n",
    "    y_train_path = os.path.join(\"dataset\", \"y_train_data.csv\")\n",
    "    X_train = pd.read_csv(X_train_path)\n",
    "    y_train = pd.read_csv(y_train_path)\n",
    "    return X_train, y_train\n",
    "\n",
    "X_train, y_train = read_train_set()"
   ]
  },
  {
   "cell_type": "code",
   "execution_count": 34,
   "id": "armed-cutting",
   "metadata": {},
   "outputs": [
    {
     "name": "stdout",
     "output_type": "stream",
     "text": [
      "       0    1    2    3    4    5    6    7    8    9  ...  29990  29991  \\\n",
      "0     75   69   76  180  196  191  173  186  169  140  ...     54     62   \n",
      "1     63   76   94  153  142  140   92  134  133   80  ...     93     92   \n",
      "2    100   98  100   94   74   74   75   75   58   19  ...     73     80   \n",
      "3    111  103  102  102  102  102  104  118  142  126  ...    107    143   \n",
      "4    134  144  106  156  164  112  116  176  143  168  ...     39     42   \n",
      "..   ...  ...  ...  ...  ...  ...  ...  ...  ...  ...  ...    ...    ...   \n",
      "495   23   18   32   23   18   29   46   13   34   35  ...     13     10   \n",
      "496   23   10   38  122  136  107   84   66   59   77  ...     94     93   \n",
      "497  133  122  122  129  122  127  139  143  142  128  ...     65    102   \n",
      "498  150  155  162  167  188  170  160  147   54   42  ...      7      5   \n",
      "499   77   54   46   51   38   35   55   47   62   54  ...    152     76   \n",
      "\n",
      "     29992  29993  29994  29995  29996  29997  29998  29999  \n",
      "0       50     34     39     50     63     60     59     73  \n",
      "1       83     77     70     68     58     51     48     46  \n",
      "2       80     75     74     78     82     60     67     72  \n",
      "3      186    126    113    124    164    153    129     91  \n",
      "4       46     55     90    112    115    115     87     62  \n",
      "..     ...    ...    ...    ...    ...    ...    ...    ...  \n",
      "495      4     10     24     48     41     46    116     94  \n",
      "496     97    100    105    120    114    147    181    184  \n",
      "497    115     95     82     63     57     62     94     76  \n",
      "498      7     10      8     12      6      9      5      7  \n",
      "499     58    117    104     64     56     41     38     31  \n",
      "\n",
      "[500 rows x 30000 columns]\n"
     ]
    }
   ],
   "source": [
    "print(X_train.iloc[:])"
   ]
  },
  {
   "cell_type": "code",
   "execution_count": 35,
   "id": "deadly-concentration",
   "metadata": {},
   "outputs": [],
   "source": [
    "from sklearn.model_selection import train_test_split\n",
    "\n",
    "X_train, X_test, y_train, y_test = train_test_split(X_train, y_train, test_size=0.1, random_state=42)"
   ]
  },
  {
   "cell_type": "code",
   "execution_count": 36,
   "id": "accurate-workstation",
   "metadata": {},
   "outputs": [
    {
     "data": {
      "text/plain": [
       "((450, 30000), (50, 30000))"
      ]
     },
     "execution_count": 36,
     "metadata": {},
     "output_type": "execute_result"
    }
   ],
   "source": [
    "X_train.shape, X_test.shape"
   ]
  },
  {
   "cell_type": "code",
   "execution_count": 38,
   "id": "unable-custody",
   "metadata": {},
   "outputs": [
    {
     "data": {
      "text/plain": [
       "LogisticRegression(max_iter=500)"
      ]
     },
     "execution_count": 38,
     "metadata": {},
     "output_type": "execute_result"
    }
   ],
   "source": [
    "from sklearn.linear_model import LogisticRegression\n",
    "\n",
    "log_reg = LogisticRegression(max_iter=500)\n",
    "log_reg.fit(X_train, pd.Series.ravel(y_train))"
   ]
  },
  {
   "cell_type": "code",
   "execution_count": 40,
   "id": "angry-schedule",
   "metadata": {},
   "outputs": [
    {
     "name": "stdout",
     "output_type": "stream",
     "text": [
      "LogisticRegression 0.4\n",
      "[4 3 3 3 3 3 3 4 3 3 3 3 3 3 3 1 2 2 3 3 3 3 3 3 3 3 3 4 3 3 3 3 3 3 3 3 1\n",
      " 3 3 3 2 3 1 1 4 3 3 3 3 3]\n"
     ]
    }
   ],
   "source": [
    "from sklearn.metrics import accuracy_score\n",
    "\n",
    "y_pred = log_reg.predict(X_test)\n",
    "print(log_reg.__class__.__name__, accuracy_score(y_test, y_pred))\n",
    "print(y_pred)"
   ]
  },
  {
   "cell_type": "code",
   "execution_count": 41,
   "id": "threaded-mathematics",
   "metadata": {},
   "outputs": [
    {
     "data": {
      "text/plain": [
       "RandomForestClassifier()"
      ]
     },
     "execution_count": 41,
     "metadata": {},
     "output_type": "execute_result"
    }
   ],
   "source": [
    "from sklearn.ensemble import RandomForestClassifier\n",
    "\n",
    "rnd_clf = RandomForestClassifier()\n",
    "rnd_clf.fit(X_train, pd.Series.ravel(y_train))"
   ]
  },
  {
   "cell_type": "code",
   "execution_count": 42,
   "id": "computational-vintage",
   "metadata": {},
   "outputs": [
    {
     "name": "stdout",
     "output_type": "stream",
     "text": [
      "RandomForestClassifier 0.58\n"
     ]
    }
   ],
   "source": [
    "y_pred = rnd_clf.predict(X_test)\n",
    "print(rnd_clf.__class__.__name__, accuracy_score(y_test, y_pred))"
   ]
  },
  {
   "cell_type": "code",
   "execution_count": 43,
   "id": "supposed-ethernet",
   "metadata": {},
   "outputs": [
    {
     "data": {
      "text/plain": [
       "SVC(probability=True)"
      ]
     },
     "execution_count": 43,
     "metadata": {},
     "output_type": "execute_result"
    }
   ],
   "source": [
    "from sklearn.svm import SVC\n",
    "\n",
    "svc_clf = SVC(probability=True)\n",
    "svc_clf.fit(X_train, pd.Series.ravel(y_train))"
   ]
  },
  {
   "cell_type": "code",
   "execution_count": 44,
   "id": "civilian-photographer",
   "metadata": {},
   "outputs": [
    {
     "name": "stdout",
     "output_type": "stream",
     "text": [
      "SVC 0.56\n"
     ]
    }
   ],
   "source": [
    "y_pred = svc_clf.predict(X_test)\n",
    "print(svc_clf.__class__.__name__, accuracy_score(y_test, y_pred))"
   ]
  },
  {
   "cell_type": "code",
   "execution_count": 45,
   "id": "enhanced-stanley",
   "metadata": {},
   "outputs": [
    {
     "data": {
      "text/plain": [
       "(array([[0.06161622, 0.09396281, 0.08734818, 0.6401246 , 0.1169482 ],\n",
       "        [0.065763  , 0.0617725 , 0.09984068, 0.6552322 , 0.11739162],\n",
       "        [0.05016093, 0.05615211, 0.09353766, 0.68569192, 0.11445739],\n",
       "        [0.07530163, 0.09751369, 0.10863061, 0.60509618, 0.11345789],\n",
       "        [0.07034088, 0.09342068, 0.10373965, 0.62424973, 0.10824906],\n",
       "        [0.0536784 , 0.12595151, 0.06859886, 0.64414685, 0.10762439],\n",
       "        [0.04777057, 0.08999833, 0.07873336, 0.66971078, 0.11378696],\n",
       "        [0.06400597, 0.12419584, 0.10288949, 0.59068646, 0.11822223],\n",
       "        [0.03678016, 0.06576338, 0.11139635, 0.66090367, 0.12515644],\n",
       "        [0.08129849, 0.110701  , 0.08929711, 0.6110691 , 0.1076343 ],\n",
       "        [0.095477  , 0.1728254 , 0.10023694, 0.52449884, 0.10696183],\n",
       "        [0.03644128, 0.11317613, 0.10351073, 0.62261039, 0.12426147],\n",
       "        [0.06745348, 0.16068232, 0.07818431, 0.58437043, 0.10930945],\n",
       "        [0.08426061, 0.11884141, 0.0805034 , 0.61257531, 0.10381927],\n",
       "        [0.0518228 , 0.08864225, 0.17626007, 0.53749342, 0.14578146],\n",
       "        [0.06121831, 0.14554033, 0.0768797 , 0.60721152, 0.10915014],\n",
       "        [0.06198771, 0.06158925, 0.13098875, 0.62117491, 0.12425938],\n",
       "        [0.0807094 , 0.09972261, 0.11497427, 0.58959098, 0.11500274],\n",
       "        [0.05429856, 0.13036831, 0.08004384, 0.62058219, 0.11470711],\n",
       "        [0.03393153, 0.10635272, 0.08099704, 0.6559582 , 0.12276051],\n",
       "        [0.06988744, 0.12268148, 0.06555962, 0.63487171, 0.10699974],\n",
       "        [0.04419014, 0.09042796, 0.09820024, 0.64620927, 0.12097239],\n",
       "        [0.07280952, 0.07125252, 0.09658178, 0.64934115, 0.11001504],\n",
       "        [0.05914831, 0.11403403, 0.09313655, 0.61499758, 0.11868353],\n",
       "        [0.05977555, 0.15935678, 0.07291602, 0.59916545, 0.1087862 ],\n",
       "        [0.03879597, 0.12047325, 0.10857601, 0.60945379, 0.12270097],\n",
       "        [0.07272036, 0.13323447, 0.06918955, 0.62327971, 0.10157591],\n",
       "        [0.06548202, 0.10161489, 0.13934473, 0.56461648, 0.12894187],\n",
       "        [0.0732102 , 0.10356689, 0.05910056, 0.66666017, 0.09746218],\n",
       "        [0.06106406, 0.15888566, 0.09126823, 0.57054591, 0.11823613],\n",
       "        [0.06452639, 0.10052845, 0.09549967, 0.62887206, 0.11057343],\n",
       "        [0.06355897, 0.09051745, 0.10321024, 0.62938492, 0.11332843],\n",
       "        [0.07086701, 0.09514143, 0.05855924, 0.67771038, 0.09772194],\n",
       "        [0.05892294, 0.11388992, 0.09864305, 0.60602807, 0.12251601],\n",
       "        [0.08912617, 0.21834661, 0.05703391, 0.53019222, 0.10530109],\n",
       "        [0.11201884, 0.14692277, 0.07473882, 0.56943727, 0.0968823 ],\n",
       "        [0.0456797 , 0.12023182, 0.12996008, 0.57237213, 0.13175627],\n",
       "        [0.04617255, 0.08752008, 0.08223375, 0.66822011, 0.11585351],\n",
       "        [0.05275586, 0.1177344 , 0.07809023, 0.64170865, 0.10971085],\n",
       "        [0.07641722, 0.09470496, 0.09732616, 0.61931898, 0.11223267],\n",
       "        [0.04388693, 0.079966  , 0.11648604, 0.63713007, 0.12253096],\n",
       "        [0.06286664, 0.17805959, 0.06851281, 0.58041839, 0.11014256],\n",
       "        [0.05762699, 0.16024571, 0.07517047, 0.58967528, 0.11728156],\n",
       "        [0.06974763, 0.16293515, 0.12585602, 0.51447131, 0.12698989],\n",
       "        [0.06740324, 0.08298734, 0.11294851, 0.61829961, 0.1183613 ],\n",
       "        [0.08160717, 0.13876845, 0.09416983, 0.57299805, 0.1124565 ],\n",
       "        [0.05687132, 0.07615642, 0.116881  , 0.62736252, 0.12272874],\n",
       "        [0.087258  , 0.05218532, 0.13433088, 0.60348439, 0.12274141],\n",
       "        [0.05573072, 0.06517045, 0.1101421 , 0.64659214, 0.12236459],\n",
       "        [0.04569432, 0.08997157, 0.12411733, 0.62503531, 0.11518148]]),\n",
       " array([[0.04, 0.16, 0.12, 0.52, 0.16],\n",
       "        [0.03, 0.12, 0.04, 0.68, 0.13],\n",
       "        [0.04, 0.13, 0.04, 0.71, 0.08],\n",
       "        [0.07, 0.11, 0.07, 0.59, 0.16],\n",
       "        [0.05, 0.11, 0.1 , 0.7 , 0.04],\n",
       "        [0.06, 0.06, 0.07, 0.73, 0.08],\n",
       "        [0.07, 0.1 , 0.11, 0.63, 0.09],\n",
       "        [0.12, 0.13, 0.07, 0.52, 0.16],\n",
       "        [0.06, 0.13, 0.15, 0.54, 0.12],\n",
       "        [0.04, 0.1 , 0.14, 0.61, 0.11],\n",
       "        [0.07, 0.14, 0.07, 0.67, 0.05],\n",
       "        [0.07, 0.07, 0.13, 0.62, 0.11],\n",
       "        [0.05, 0.19, 0.07, 0.6 , 0.09],\n",
       "        [0.04, 0.09, 0.11, 0.67, 0.09],\n",
       "        [0.16, 0.09, 0.25, 0.24, 0.26],\n",
       "        [0.1 , 0.16, 0.07, 0.57, 0.1 ],\n",
       "        [0.05, 0.1 , 0.13, 0.55, 0.17],\n",
       "        [0.08, 0.12, 0.09, 0.57, 0.14],\n",
       "        [0.05, 0.07, 0.13, 0.64, 0.11],\n",
       "        [0.06, 0.09, 0.09, 0.63, 0.13],\n",
       "        [0.08, 0.09, 0.05, 0.69, 0.09],\n",
       "        [0.07, 0.07, 0.1 , 0.64, 0.12],\n",
       "        [0.04, 0.1 , 0.04, 0.67, 0.15],\n",
       "        [0.1 , 0.15, 0.08, 0.53, 0.14],\n",
       "        [0.07, 0.13, 0.07, 0.69, 0.04],\n",
       "        [0.06, 0.15, 0.14, 0.47, 0.18],\n",
       "        [0.04, 0.07, 0.03, 0.79, 0.07],\n",
       "        [0.06, 0.17, 0.11, 0.43, 0.23],\n",
       "        [0.01, 0.04, 0.03, 0.86, 0.06],\n",
       "        [0.04, 0.15, 0.07, 0.63, 0.11],\n",
       "        [0.01, 0.11, 0.12, 0.65, 0.11],\n",
       "        [0.06, 0.05, 0.1 , 0.63, 0.16],\n",
       "        [0.01, 0.06, 0.05, 0.84, 0.04],\n",
       "        [0.12, 0.1 , 0.13, 0.47, 0.18],\n",
       "        [0.05, 0.09, 0.05, 0.69, 0.12],\n",
       "        [0.01, 0.11, 0.04, 0.83, 0.01],\n",
       "        [0.06, 0.16, 0.2 , 0.38, 0.2 ],\n",
       "        [0.11, 0.17, 0.08, 0.47, 0.17],\n",
       "        [0.08, 0.2 , 0.09, 0.52, 0.11],\n",
       "        [0.05, 0.1 , 0.08, 0.62, 0.15],\n",
       "        [0.03, 0.03, 0.05, 0.71, 0.18],\n",
       "        [0.04, 0.08, 0.05, 0.73, 0.1 ],\n",
       "        [0.03, 0.12, 0.1 , 0.61, 0.14],\n",
       "        [0.1 , 0.12, 0.16, 0.49, 0.13],\n",
       "        [0.07, 0.18, 0.17, 0.44, 0.14],\n",
       "        [0.08, 0.15, 0.1 , 0.54, 0.13],\n",
       "        [0.05, 0.13, 0.16, 0.56, 0.1 ],\n",
       "        [0.1 , 0.09, 0.18, 0.51, 0.12],\n",
       "        [0.04, 0.11, 0.09, 0.64, 0.12],\n",
       "        [0.11, 0.21, 0.12, 0.41, 0.15]]),\n",
       " array([[1.31240947e-06, 2.69029015e-05, 3.33919054e-09, 1.38104196e-01,\n",
       "         8.61867586e-01],\n",
       "        [5.06364613e-08, 1.45918372e-08, 4.20928377e-07, 9.99807641e-01,\n",
       "         1.91873258e-04],\n",
       "        [8.19403829e-07, 9.36246836e-07, 1.68358591e-05, 9.99977762e-01,\n",
       "         3.64681996e-06],\n",
       "        [5.36351048e-05, 1.66678035e-01, 1.51230331e-01, 6.56344755e-01,\n",
       "         2.56932445e-02],\n",
       "        [1.03332471e-08, 3.45999895e-07, 1.73526107e-05, 9.99979251e-01,\n",
       "         3.04034827e-06],\n",
       "        [1.21391361e-02, 4.27833700e-01, 4.14297399e-03, 5.53326702e-01,\n",
       "         2.55748780e-03],\n",
       "        [2.01101669e-06, 1.34463027e-07, 1.34919591e-07, 9.99985111e-01,\n",
       "         1.26085350e-05],\n",
       "        [2.93287900e-05, 8.41562474e-02, 1.51773917e-02, 6.09034766e-02,\n",
       "         8.39733556e-01],\n",
       "        [1.20847412e-03, 1.11094325e-03, 1.80464489e-03, 9.69801382e-01,\n",
       "         2.60745559e-02],\n",
       "        [1.84040441e-08, 6.98432923e-04, 6.09821645e-06, 9.99291393e-01,\n",
       "         4.05704549e-06],\n",
       "        [1.73265965e-07, 2.97011677e-01, 9.95287006e-04, 7.01985162e-01,\n",
       "         7.70005938e-06],\n",
       "        [9.82354413e-03, 1.57922785e-01, 6.88545004e-04, 8.30351614e-01,\n",
       "         1.21351172e-03],\n",
       "        [3.64101051e-07, 3.22592398e-01, 3.39462693e-07, 6.77404202e-01,\n",
       "         2.69736403e-06],\n",
       "        [1.76412596e-05, 4.58263123e-03, 9.70376920e-06, 9.95092679e-01,\n",
       "         2.97344770e-04],\n",
       "        [1.68300699e-02, 8.88702639e-07, 4.69801239e-01, 5.08891702e-01,\n",
       "         4.47610020e-03],\n",
       "        [2.68464650e-05, 7.90885431e-01, 1.41918878e-03, 2.07668116e-01,\n",
       "         4.18050902e-07],\n",
       "        [3.60983886e-03, 2.55744649e-06, 6.31354500e-01, 6.71891643e-02,\n",
       "         2.97843939e-01],\n",
       "        [3.45148945e-06, 2.67430575e-01, 6.30930856e-01, 9.52170375e-02,\n",
       "         6.41808032e-03],\n",
       "        [3.11896404e-02, 1.26998710e-02, 1.30013625e-04, 9.45973328e-01,\n",
       "         1.00071466e-02],\n",
       "        [5.18721252e-02, 9.20592168e-03, 2.08225674e-03, 9.31298959e-01,\n",
       "         5.54073691e-03],\n",
       "        [5.84567336e-08, 4.19248020e-05, 1.59063126e-09, 9.99957252e-01,\n",
       "         7.63065372e-07],\n",
       "        [1.01850031e-03, 1.64686082e-05, 9.27875804e-02, 9.06168392e-01,\n",
       "         9.05838955e-06],\n",
       "        [4.98141586e-04, 4.74716185e-04, 5.81595041e-03, 9.91678167e-01,\n",
       "         1.53302488e-03],\n",
       "        [2.27139045e-05, 7.99539797e-04, 1.64873140e-04, 9.93443366e-01,\n",
       "         5.56950696e-03],\n",
       "        [3.27553517e-05, 6.27975503e-04, 1.73766611e-06, 9.99337116e-01,\n",
       "         4.14984974e-07],\n",
       "        [9.48194408e-04, 2.02318350e-07, 4.06848790e-05, 9.99007527e-01,\n",
       "         3.39140747e-06],\n",
       "        [8.24651396e-05, 7.78546939e-03, 6.28186188e-05, 9.91472439e-01,\n",
       "         5.96807990e-04],\n",
       "        [1.18761500e-05, 4.33354853e-04, 1.18961332e-03, 1.45620843e-06,\n",
       "         9.98363699e-01],\n",
       "        [6.26356065e-07, 6.97534601e-06, 3.93223197e-07, 9.99950498e-01,\n",
       "         4.15067816e-05],\n",
       "        [3.43543172e-09, 3.72935670e-05, 5.40820615e-09, 9.99958618e-01,\n",
       "         4.07926673e-06],\n",
       "        [3.74765662e-06, 2.15965209e-05, 2.02370304e-06, 9.99972068e-01,\n",
       "         5.63666138e-07],\n",
       "        [7.49667478e-04, 6.22020138e-04, 8.25384702e-04, 9.91940124e-01,\n",
       "         5.86280322e-03],\n",
       "        [3.19067438e-05, 1.21278964e-05, 8.92448223e-05, 9.99860002e-01,\n",
       "         6.71864776e-06],\n",
       "        [1.01960368e-06, 2.86795379e-02, 3.93770497e-02, 9.25364640e-01,\n",
       "         6.57775312e-03],\n",
       "        [1.26555274e-06, 4.56156378e-05, 4.07358697e-08, 9.99810736e-01,\n",
       "         1.42342402e-04],\n",
       "        [9.93103492e-07, 1.80934767e-03, 4.38127171e-04, 9.96642923e-01,\n",
       "         1.10860903e-03],\n",
       "        [2.57169747e-05, 9.47344391e-01, 1.27853792e-02, 3.43470731e-02,\n",
       "         5.49744011e-03],\n",
       "        [1.48853560e-05, 8.30099768e-08, 3.52069141e-07, 9.99907863e-01,\n",
       "         7.68166484e-05],\n",
       "        [1.57485908e-08, 2.76552888e-07, 3.55518202e-12, 9.99999667e-01,\n",
       "         4.07063730e-08],\n",
       "        [2.81648186e-07, 3.49243351e-03, 2.76711642e-03, 8.17912780e-01,\n",
       "         1.75827388e-01],\n",
       "        [3.81576580e-02, 1.08701922e-06, 8.88469543e-01, 7.29676750e-02,\n",
       "         4.04037445e-04],\n",
       "        [5.59572228e-04, 2.20515668e-01, 2.70985463e-03, 7.76087944e-01,\n",
       "         1.26961104e-04],\n",
       "        [1.06027501e-04, 9.86051740e-01, 5.52521714e-03, 8.05694564e-03,\n",
       "         2.60069780e-04],\n",
       "        [9.30093027e-04, 6.94059815e-01, 2.79980698e-02, 2.75315272e-01,\n",
       "         1.69675075e-03],\n",
       "        [8.75409352e-04, 2.46428268e-04, 7.32398936e-03, 4.62232814e-01,\n",
       "         5.29321359e-01],\n",
       "        [4.82624136e-07, 8.28453469e-04, 2.53713551e-05, 9.99033964e-01,\n",
       "         1.11728389e-04],\n",
       "        [6.06253388e-07, 6.82270516e-04, 6.63495521e-04, 9.98652792e-01,\n",
       "         8.35743731e-07],\n",
       "        [3.08028512e-08, 9.91278762e-08, 3.70394356e-01, 6.29597486e-01,\n",
       "         8.02844009e-06],\n",
       "        [9.05235891e-06, 6.01390173e-06, 6.62101727e-07, 9.99587473e-01,\n",
       "         3.96798615e-04],\n",
       "        [1.81433065e-07, 6.50497214e-05, 2.25598866e-07, 9.99934543e-01,\n",
       "         2.50447037e-14]]))"
      ]
     },
     "execution_count": 45,
     "metadata": {},
     "output_type": "execute_result"
    }
   ],
   "source": [
    "svc_clf.predict_proba(X_test), rnd_clf.predict_proba(X_test), log_reg.predict_proba(X_test)"
   ]
  },
  {
   "cell_type": "code",
   "execution_count": 46,
   "id": "marked-dodge",
   "metadata": {},
   "outputs": [
    {
     "data": {
      "text/plain": [
       "30000\n",
       "3        278\n",
       "4         53\n",
       "1         47\n",
       "2         45\n",
       "0         27\n",
       "dtype: int64"
      ]
     },
     "execution_count": 46,
     "metadata": {},
     "output_type": "execute_result"
    }
   ],
   "source": [
    "y_train.value_counts()"
   ]
  },
  {
   "cell_type": "code",
   "execution_count": 47,
   "id": "hollywood-excuse",
   "metadata": {},
   "outputs": [
    {
     "data": {
      "text/plain": [
       "30000\n",
       "3        28\n",
       "4         8\n",
       "2         7\n",
       "1         5\n",
       "0         2\n",
       "dtype: int64"
      ]
     },
     "execution_count": 47,
     "metadata": {},
     "output_type": "execute_result"
    }
   ],
   "source": [
    "y_test.value_counts()"
   ]
  },
  {
   "cell_type": "code",
   "execution_count": 49,
   "id": "historical-function",
   "metadata": {},
   "outputs": [
    {
     "data": {
      "text/plain": [
       "Text(0.5, 0, '# of Training Examples')"
      ]
     },
     "execution_count": 49,
     "metadata": {},
     "output_type": "execute_result"
    },
    {
     "data": {
      "image/png": "[encoded data removed]",
      "text/plain": [
       "<Figure size 432x288 with 1 Axes>"
      ]
     },
     "metadata": {
      "needs_background": "light"
     },
     "output_type": "display_data"
    }
   ],
   "source": [
    "from sklearn.model_selection import learning_curve\n",
    "\n",
    "train_sizes, train_scores, val_scores = learning_curve(rnd_clf, X_train, pd.Series.ravel(y_train)\n",
    "                                                       , train_sizes=np.linspace(0.1, 1, 10))\n",
    "plt.figure()\n",
    "train_scores_mean = np.mean(train_scores, axis=1)\n",
    "val_scores_mean = np.mean(val_scores, axis=1)\n",
    "plt.plot(train_sizes, train_scores_mean, \"b-\", label=\"Train\")\n",
    "plt.plot(train_sizes, val_scores_mean, \"g-\", label=\"CV\")\n",
    "plt.ylabel(\"Accuracy\")\n",
    "plt.xlabel(\"# of Training Examples\")"
   ]
  },
  {
   "cell_type": "code",
   "execution_count": null,
   "id": "unauthorized-preserve",
   "metadata": {},
   "outputs": [],
   "source": []
  }
 ],
 "metadata": {
  "kernelspec": {
   "display_name": "Python 3",
   "language": "python",
   "name": "python3"
  }
 },
 "nbformat": 4,
 "nbformat_minor": 5
}
