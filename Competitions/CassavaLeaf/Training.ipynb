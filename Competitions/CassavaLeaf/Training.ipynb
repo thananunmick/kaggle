{
 "cells": [
  {
   "cell_type": "code",
   "execution_count": 1,
   "id": "muslim-double",
   "metadata": {},
   "outputs": [],
   "source": [
    "import os\n",
    "import matplotlib.pyplot as plt\n",
    "import pandas as pd\n",
    "import numpy as np"
   ]
  },
  {
   "cell_type": "code",
   "execution_count": null,
   "id": "opponent-prayer",
   "metadata": {},
   "outputs": [],
   "source": [
    "def read_train_set():\n",
    "    X_train_path = os.path.join(\"dataset\", \"X_train_data.csv\")\n",
    "    y_train_path = os.path.join(\"dataset\", \"y_train_data.csv\")\n",
    "    X_train = pd.read_csv(X_train_path)\n",
    "    y_train = pd.read_csv(y_train_path)\n",
    "    return X_train, y_train\n",
    "\n",
    "X_train, y_train = read_train_set()"
   ]
  },
  {
   "cell_type": "code",
   "execution_count": 3,
   "id": "armed-cutting",
   "metadata": {},
   "outputs": [
    {
     "name": "stdout",
     "output_type": "stream",
     "text": [
      "     480000\n",
      "0         0\n",
      "1         3\n",
      "2         1\n",
      "3         1\n",
      "4         3\n",
      "..      ...\n",
      "495       3\n",
      "496       3\n",
      "497       3\n",
      "498       3\n",
      "499       3\n",
      "\n",
      "[500 rows x 1 columns]\n"
     ]
    }
   ],
   "source": [
    "print(y_train.iloc[:])"
   ]
  },
  {
   "cell_type": "code",
   "execution_count": null,
   "id": "deadly-concentration",
   "metadata": {},
   "outputs": [],
   "source": []
  }
 ],
 "metadata": {
  "kernelspec": {
   "display_name": "Python 3",
   "language": "python",
   "name": "python3"
  },
  "language_info": {
   "codemirror_mode": {
    "name": "ipython",
    "version": 3
   },
   "file_extension": ".py",
   "mimetype": "text/x-python",
   "name": "python",
   "nbconvert_exporter": "python",
   "pygments_lexer": "ipython3",
   "version": "3.9.0"
  }
 },
 "nbformat": 4,
 "nbformat_minor": 5
}
